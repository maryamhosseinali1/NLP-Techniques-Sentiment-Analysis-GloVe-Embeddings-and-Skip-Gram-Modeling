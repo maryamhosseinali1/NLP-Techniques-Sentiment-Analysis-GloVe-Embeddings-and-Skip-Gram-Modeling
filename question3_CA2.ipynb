{
  "nbformat": 4,
  "nbformat_minor": 0,
  "metadata": {
    "colab": {
      "provenance": []
    },
    "kernelspec": {
      "name": "python3",
      "display_name": "Python 3"
    },
    "language_info": {
      "name": "python"
    }
  },
  "cells": [
    {
      "cell_type": "code",
      "execution_count": 14,
      "metadata": {
        "colab": {
          "base_uri": "https://localhost:8080/"
        },
        "id": "4Rb3UScaDSaR",
        "outputId": "2d9dfb00-21ba-4246-c865-c32df7e6393e"
      },
      "outputs": [
        {
          "output_type": "stream",
          "name": "stdout",
          "text": [
            "--2024-04-05 00:46:53--  https://sherlock-holm.es/stories/plain-text/advs.txt\n",
            "Resolving sherlock-holm.es (sherlock-holm.es)... 157.90.249.21, 2a01:4f8:1c17:5725::1\n",
            "Connecting to sherlock-holm.es (sherlock-holm.es)|157.90.249.21|:443... connected.\n",
            "HTTP request sent, awaiting response... 200 OK\n",
            "Length: 610921 (597K) [text/plain]\n",
            "Saving to: ‘sherlock_holmes_stories.txt’\n",
            "\n",
            "sherlock_holmes_sto 100%[===================>] 596.60K   759KB/s    in 0.8s    \n",
            "\n",
            "2024-04-05 00:46:55 (759 KB/s) - ‘sherlock_holmes_stories.txt’ saved [610921/610921]\n",
            "\n"
          ]
        }
      ],
      "source": [
        "!wget https://sherlock-holm.es/stories/plain-text/advs.txt -O sherlock_holmes_stories.txt\n"
      ]
    },
    {
      "cell_type": "markdown",
      "source": [
        "# **part1**"
      ],
      "metadata": {
        "id": "kf2R6eT2GpqV"
      }
    },
    {
      "cell_type": "code",
      "source": [
        "import re\n",
        "with open('sherlock_holmes_stories.txt', 'r', encoding='utf-8') as file:\n",
        "    text = file.read()\n",
        "\n",
        "text = text.lower()\n",
        "text = re.sub(r'\\[.*?\\]', '', text)\n",
        "text = re.sub(r'http\\S+', '', text)\n",
        "text = re.sub(r'[%s]' % re.escape(\"\"\"!\"#$%&'()*+,-./:;<=>?@[\\]^_`{|}~\"\"\"), '', text)\n",
        "text = re.sub(r'\\n', ' ', text)\n",
        "text = re.sub(r'\\w*\\d\\w*', '', text)\n",
        "\n",
        "cleaned_text = text\n",
        "\n",
        "\n"
      ],
      "metadata": {
        "id": "ycVOsBdALCYX"
      },
      "execution_count": 15,
      "outputs": []
    },
    {
      "cell_type": "code",
      "source": [
        "import numpy as np\n",
        "import tensorflow as tf\n",
        "from tensorflow.keras.preprocessing.text import Tokenizer\n",
        "from tensorflow.keras.preprocessing.sequence import skipgrams\n",
        "\n",
        "\n",
        "# tokenize the text\n",
        "tokenizer = Tokenizer()\n",
        "tokenizer.fit_on_texts([cleaned_text])\n",
        "word_index = tokenizer.word_index\n",
        "sequences = tokenizer.texts_to_sequences([cleaned_text])[0]\n",
        "\n",
        "# vocabulary size\n",
        "vocab_size = len(word_index) + 1\n",
        "\n",
        "# generate skip-grams with negative sampling\n",
        "window_size = 2\n",
        "positive_skip_grams, negative_samples = skipgrams(\n",
        "    sequences,\n",
        "    vocabulary_size=vocab_size,\n",
        "    window_size=window_size,\n",
        "    negative_samples=4.0\n",
        ")\n",
        "\n",
        "# SkipGram model\n",
        "class SkipGram(tf.keras.Model):\n",
        "    def __init__(self, vocab_size, embedding_dim):\n",
        "        super(SkipGram, self).__init__()\n",
        "        self.target_embedding = tf.keras.layers.Embedding(\n",
        "            input_dim=vocab_size,\n",
        "            output_dim=embedding_dim,\n",
        "            input_length=1,\n",
        "            name='w2v_embedding'\n",
        "        )\n",
        "        self.context_embedding = tf.keras.layers.Embedding(\n",
        "            input_dim=vocab_size,\n",
        "            output_dim=embedding_dim,\n",
        "            input_length=1,\n",
        "            name='context_embedding'\n",
        "        )\n",
        "\n",
        "    def call(self, pair):\n",
        "        target, context = pair\n",
        "        if len(target.shape) == 2:\n",
        "            target = tf.squeeze(target, axis=-1)\n",
        "        if len(context.shape) == 2:\n",
        "            context = tf.squeeze(context, axis=-1)\n",
        "        target_emb = self.target_embedding(target)\n",
        "        context_emb = self.context_embedding(context)\n",
        "        dots = tf.einsum('ik,ik->i', target_emb, context_emb)\n",
        "        return dots\n",
        "\n",
        "# Hyperparameters\n",
        "embedding_dim = 100\n",
        "\n",
        "# compile the model\n",
        "model = SkipGram(vocab_size, embedding_dim)\n",
        "model.compile(optimizer='adam', loss=tf.keras.losses.BinaryCrossentropy(from_logits=True))\n",
        "\n",
        "# prepare data for training\n",
        "\n",
        "x_train = [np.array([pair[0] for pair in positive_skip_grams]),\n",
        "           np.array([pair[1] for pair in positive_skip_grams])]\n",
        "y_train = np.ones(len(positive_skip_grams))  # adjust labels based on positive and negative samples\n",
        "\n",
        "# train the model\n",
        "model.fit(x_train, y_train, epochs=1, batch_size=1024)\n",
        "\n",
        "# post-training\n",
        "word_feature_vectors = model.target_embedding.get_weights()[0] + model.context_embedding.get_weights()[0]\n"
      ],
      "metadata": {
        "colab": {
          "base_uri": "https://localhost:8080/"
        },
        "id": "gyp9Er550p_8",
        "outputId": "3310bd76-4838-46c7-f436-2d5c15e6254c"
      },
      "execution_count": 26,
      "outputs": [
        {
          "output_type": "stream",
          "name": "stdout",
          "text": [
            "2040/2040 [==============================] - 43s 21ms/step - loss: 0.1226\n"
          ]
        }
      ]
    },
    {
      "cell_type": "markdown",
      "source": [
        "# **part2**"
      ],
      "metadata": {
        "id": "pJ98onUoGujw"
      }
    },
    {
      "cell_type": "code",
      "source": [
        "\n",
        "def get_word_embedding(word, model, word_index):\n",
        "    # retrieve the words index\n",
        "    word_idx = word_index[word]\n",
        "    # extract the embedding for the word\n",
        "    return model.target_embedding(np.array([word_idx])).numpy()\n",
        "\n",
        "# extract embeddings\n",
        "queen_vec = get_word_embedding('queen', model, word_index)\n",
        "king_vec = get_word_embedding('king', model, word_index)\n",
        "man_vec = get_word_embedding('man', model, word_index)\n",
        "woman_vec = get_word_embedding('woman', model, word_index)\n",
        "\n",
        "# vector arithmetic\n",
        "resultant_vec = king_vec - man_vec + woman_vec\n",
        "\n",
        "# calculate similarity\n",
        "similarity = np.dot(queen_vec.flatten(), resultant_vec.flatten())\n",
        "\n",
        "print(f\"Similarity: {similarity}\")\n"
      ],
      "metadata": {
        "colab": {
          "base_uri": "https://localhost:8080/"
        },
        "id": "6Kpq71OaQBmH",
        "outputId": "ff18a364-4748-4dd8-f79c-c62035ed9352"
      },
      "execution_count": 27,
      "outputs": [
        {
          "output_type": "stream",
          "name": "stdout",
          "text": [
            "Similarity: 3.913191795349121\n"
          ]
        }
      ]
    },
    {
      "cell_type": "code",
      "source": [
        "# compute cosine similarity\n",
        "cosine_similarity = np.dot(queen_vec.flatten(), resultant_vec.flatten()) / (np.linalg.norm(queen_vec) * np.linalg.norm(resultant_vec))\n",
        "print(f\"Cosine Similarity: {cosine_similarity}\")\n"
      ],
      "metadata": {
        "colab": {
          "base_uri": "https://localhost:8080/"
        },
        "id": "2Q-8wzdqQGQA",
        "outputId": "012c6a01-2536-4aa8-e90c-f0729ca292a9"
      },
      "execution_count": 28,
      "outputs": [
        {
          "output_type": "stream",
          "name": "stdout",
          "text": [
            "Cosine Similarity: 0.9622769951820374\n"
          ]
        }
      ]
    },
    {
      "cell_type": "markdown",
      "source": [
        "# **part3**"
      ],
      "metadata": {
        "id": "0zEvMox6G28U"
      }
    },
    {
      "cell_type": "code",
      "source": [
        "\n",
        "import matplotlib.pyplot as plt\n",
        "from sklearn.decomposition import PCA\n"
      ],
      "metadata": {
        "id": "zPccwortQJ6y"
      },
      "execution_count": 29,
      "outputs": []
    },
    {
      "cell_type": "code",
      "source": [
        "words = ['brother', 'sister', 'uncle', 'aunt']\n",
        "embeddings = np.array([get_word_embedding(word, model, word_index).flatten() for word in words])\n",
        "\n",
        "# apply PCA to reduce to 2 dimensions\n",
        "pca = PCA(n_components=2)\n",
        "reduced_embeddings = pca.fit_transform(embeddings)\n",
        "\n",
        "# compute difference vectors\n",
        "diff_vectors = np.array([reduced_embeddings[1] - reduced_embeddings[0],  # sister - brother\n",
        "                         reduced_embeddings[3] - reduced_embeddings[2]]) # aunt - uncle\n",
        "\n",
        "\n",
        "plt.figure(figsize=(8, 6))\n",
        "\n",
        "# plot original word embeddings\n",
        "for i, word in enumerate(words):\n",
        "    plt.scatter(reduced_embeddings[i, 0], reduced_embeddings[i, 1], label=word)\n",
        "\n",
        "# plot difference vectors\n",
        "plt.quiver(*reduced_embeddings[0], *diff_vectors[0], color='r', scale=1, scale_units='xy', angles='xy', label='sister-brother')\n",
        "plt.quiver(*reduced_embeddings[2], *diff_vectors[1], color='g', scale=1, scale_units='xy', angles='xy', label='aunt-uncle')\n",
        "\n",
        "plt.legend()\n",
        "plt.title('Word Embedding Space with Difference Vectors')\n",
        "plt.xlabel('PCA 1')\n",
        "plt.ylabel('PCA 2')\n",
        "plt.grid(True)\n",
        "plt.show()\n"
      ],
      "metadata": {
        "id": "xTt9_NzFRGkP",
        "outputId": "9c20a4a0-79c8-4c41-e394-494365e514aa",
        "colab": {
          "base_uri": "https://localhost:8080/",
          "height": 564
        }
      },
      "execution_count": 31,
      "outputs": [
        {
          "output_type": "display_data",
          "data": {
            "text/plain": [
              "<Figure size 800x600 with 1 Axes>"
            ],
            "image/png": "[encoded data removed]"
          },
          "metadata": {}
        }
      ]
    }
  ]
}